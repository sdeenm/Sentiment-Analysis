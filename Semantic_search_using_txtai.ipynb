{
  "nbformat": 4,
  "nbformat_minor": 0,
  "metadata": {
    "kernelspec": {
      "name": "python3",
      "display_name": "Python 3",
      "language": "python"
    },
    "language_info": {
      "name": "python",
      "version": "3.7.6",
      "mimetype": "text/x-python",
      "codemirror_mode": {
        "name": "ipython",
        "version": 3
      },
      "pygments_lexer": "ipython3",
      "nbconvert_exporter": "python",
      "file_extension": ".py"
    },
    "colab": {
      "provenance": []
    }
  },
  "cells": [
    {
      "cell_type": "markdown",
      "metadata": {
        "id": "qa_PPKVX6XzN"
      },
      "source": [
        "# Install dependencies\n",
        "\n",
        "Install `txtai` and all dependencies."
      ]
    },
    {
      "cell_type": "code",
      "metadata": {
        "_uuid": "8f2839f25d086af736a60e9eeb907d3b93b6e0e5",
        "_cell_guid": "b1076dfc-b9ad-4769-8c92-a6c4dae69d19",
        "trusted": true,
        "_kg_hide-output": true,
        "id": "24q-1n5i6XzQ"
      },
      "source": [
        "%%capture\n",
        "!pip install git+https://github.com/neuml/txtai"
      ],
      "execution_count": 79,
      "outputs": []
    },
    {
      "cell_type": "markdown",
      "metadata": {
        "id": "vHxb_jm16Xzd"
      },
      "source": [
        "# Create an Embeddings instance\n",
        "\n",
        "The Embeddings instance is the main entrypoint for txtai. An Embeddings instance defines the method used to tokenize and convert a text section into an embeddings vector. "
      ]
    },
    {
      "cell_type": "code",
      "metadata": {
        "trusted": true,
        "id": "QxX9EtIc6Xzg"
      },
      "source": [
        "%%capture\n",
        "\n",
        "from txtai.embeddings import Embeddings\n",
        "\n",
        "# Create embeddings model, backed by sentence-transformers & transformers\n",
        "embeddings = Embeddings({\"path\": \"sentence-transformers/all-mpnet-base-v2\"})"
      ],
      "execution_count": 80,
      "outputs": []
    },
    {
      "cell_type": "markdown",
      "source": [
        "Semantic Search\n",
        "Semantic search seeks to improve search accuracy by understanding the content of the search query. In contrast to traditional search engines which only find documents based on lexical matches, semantic search can also find synonyms."
      ],
      "metadata": {
        "id": "RC9iyD1rYbc8"
      }
    },
    {
      "cell_type": "markdown",
      "metadata": {
        "id": "JAO61bcy6Xzo"
      },
      "source": [
        "# Running similarity queries\n",
        "\n",
        "Running similarity searches for a list of different concepts."
      ]
    },
    {
      "cell_type": "code",
      "source": [
        "from google.colab import files\n",
        "uploaded = files.upload()"
      ],
      "metadata": {
        "colab": {
          "base_uri": "https://localhost:8080/",
          "height": 73
        },
        "id": "BoxF7dkLBbw-",
        "outputId": "2cfbc8ba-1893-4968-8a60-d149d579d9f5"
      },
      "execution_count": 81,
      "outputs": [
        {
          "output_type": "display_data",
          "data": {
            "text/plain": [
              "<IPython.core.display.HTML object>"
            ],
            "text/html": [
              "\n",
              "     <input type=\"file\" id=\"files-a0f5ca2f-2093-467a-a7f9-89f9f935f2c3\" name=\"files[]\" multiple disabled\n",
              "        style=\"border:none\" />\n",
              "     <output id=\"result-a0f5ca2f-2093-467a-a7f9-89f9f935f2c3\">\n",
              "      Upload widget is only available when the cell has been executed in the\n",
              "      current browser session. Please rerun this cell to enable.\n",
              "      </output>\n",
              "      <script>// Copyright 2017 Google LLC\n",
              "//\n",
              "// Licensed under the Apache License, Version 2.0 (the \"License\");\n",
              "// you may not use this file except in compliance with the License.\n",
              "// You may obtain a copy of the License at\n",
              "//\n",
              "//      http://www.apache.org/licenses/LICENSE-2.0\n",
              "//\n",
              "// Unless required by applicable law or agreed to in writing, software\n",
              "// distributed under the License is distributed on an \"AS IS\" BASIS,\n",
              "// WITHOUT WARRANTIES OR CONDITIONS OF ANY KIND, either express or implied.\n",
              "// See the License for the specific language governing permissions and\n",
              "// limitations under the License.\n",
              "\n",
              "/**\n",
              " * @fileoverview Helpers for google.colab Python module.\n",
              " */\n",
              "(function(scope) {\n",
              "function span(text, styleAttributes = {}) {\n",
              "  const element = document.createElement('span');\n",
              "  element.textContent = text;\n",
              "  for (const key of Object.keys(styleAttributes)) {\n",
              "    element.style[key] = styleAttributes[key];\n",
              "  }\n",
              "  return element;\n",
              "}\n",
              "\n",
              "// Max number of bytes which will be uploaded at a time.\n",
              "const MAX_PAYLOAD_SIZE = 100 * 1024;\n",
              "\n",
              "function _uploadFiles(inputId, outputId) {\n",
              "  const steps = uploadFilesStep(inputId, outputId);\n",
              "  const outputElement = document.getElementById(outputId);\n",
              "  // Cache steps on the outputElement to make it available for the next call\n",
              "  // to uploadFilesContinue from Python.\n",
              "  outputElement.steps = steps;\n",
              "\n",
              "  return _uploadFilesContinue(outputId);\n",
              "}\n",
              "\n",
              "// This is roughly an async generator (not supported in the browser yet),\n",
              "// where there are multiple asynchronous steps and the Python side is going\n",
              "// to poll for completion of each step.\n",
              "// This uses a Promise to block the python side on completion of each step,\n",
              "// then passes the result of the previous step as the input to the next step.\n",
              "function _uploadFilesContinue(outputId) {\n",
              "  const outputElement = document.getElementById(outputId);\n",
              "  const steps = outputElement.steps;\n",
              "\n",
              "  const next = steps.next(outputElement.lastPromiseValue);\n",
              "  return Promise.resolve(next.value.promise).then((value) => {\n",
              "    // Cache the last promise value to make it available to the next\n",
              "    // step of the generator.\n",
              "    outputElement.lastPromiseValue = value;\n",
              "    return next.value.response;\n",
              "  });\n",
              "}\n",
              "\n",
              "/**\n",
              " * Generator function which is called between each async step of the upload\n",
              " * process.\n",
              " * @param {string} inputId Element ID of the input file picker element.\n",
              " * @param {string} outputId Element ID of the output display.\n",
              " * @return {!Iterable<!Object>} Iterable of next steps.\n",
              " */\n",
              "function* uploadFilesStep(inputId, outputId) {\n",
              "  const inputElement = document.getElementById(inputId);\n",
              "  inputElement.disabled = false;\n",
              "\n",
              "  const outputElement = document.getElementById(outputId);\n",
              "  outputElement.innerHTML = '';\n",
              "\n",
              "  const pickedPromise = new Promise((resolve) => {\n",
              "    inputElement.addEventListener('change', (e) => {\n",
              "      resolve(e.target.files);\n",
              "    });\n",
              "  });\n",
              "\n",
              "  const cancel = document.createElement('button');\n",
              "  inputElement.parentElement.appendChild(cancel);\n",
              "  cancel.textContent = 'Cancel upload';\n",
              "  const cancelPromise = new Promise((resolve) => {\n",
              "    cancel.onclick = () => {\n",
              "      resolve(null);\n",
              "    };\n",
              "  });\n",
              "\n",
              "  // Wait for the user to pick the files.\n",
              "  const files = yield {\n",
              "    promise: Promise.race([pickedPromise, cancelPromise]),\n",
              "    response: {\n",
              "      action: 'starting',\n",
              "    }\n",
              "  };\n",
              "\n",
              "  cancel.remove();\n",
              "\n",
              "  // Disable the input element since further picks are not allowed.\n",
              "  inputElement.disabled = true;\n",
              "\n",
              "  if (!files) {\n",
              "    return {\n",
              "      response: {\n",
              "        action: 'complete',\n",
              "      }\n",
              "    };\n",
              "  }\n",
              "\n",
              "  for (const file of files) {\n",
              "    const li = document.createElement('li');\n",
              "    li.append(span(file.name, {fontWeight: 'bold'}));\n",
              "    li.append(span(\n",
              "        `(${file.type || 'n/a'}) - ${file.size} bytes, ` +\n",
              "        `last modified: ${\n",
              "            file.lastModifiedDate ? file.lastModifiedDate.toLocaleDateString() :\n",
              "                                    'n/a'} - `));\n",
              "    const percent = span('0% done');\n",
              "    li.appendChild(percent);\n",
              "\n",
              "    outputElement.appendChild(li);\n",
              "\n",
              "    const fileDataPromise = new Promise((resolve) => {\n",
              "      const reader = new FileReader();\n",
              "      reader.onload = (e) => {\n",
              "        resolve(e.target.result);\n",
              "      };\n",
              "      reader.readAsArrayBuffer(file);\n",
              "    });\n",
              "    // Wait for the data to be ready.\n",
              "    let fileData = yield {\n",
              "      promise: fileDataPromise,\n",
              "      response: {\n",
              "        action: 'continue',\n",
              "      }\n",
              "    };\n",
              "\n",
              "    // Use a chunked sending to avoid message size limits. See b/62115660.\n",
              "    let position = 0;\n",
              "    do {\n",
              "      const length = Math.min(fileData.byteLength - position, MAX_PAYLOAD_SIZE);\n",
              "      const chunk = new Uint8Array(fileData, position, length);\n",
              "      position += length;\n",
              "\n",
              "      const base64 = btoa(String.fromCharCode.apply(null, chunk));\n",
              "      yield {\n",
              "        response: {\n",
              "          action: 'append',\n",
              "          file: file.name,\n",
              "          data: base64,\n",
              "        },\n",
              "      };\n",
              "\n",
              "      let percentDone = fileData.byteLength === 0 ?\n",
              "          100 :\n",
              "          Math.round((position / fileData.byteLength) * 100);\n",
              "      percent.textContent = `${percentDone}% done`;\n",
              "\n",
              "    } while (position < fileData.byteLength);\n",
              "  }\n",
              "\n",
              "  // All done.\n",
              "  yield {\n",
              "    response: {\n",
              "      action: 'complete',\n",
              "    }\n",
              "  };\n",
              "}\n",
              "\n",
              "scope.google = scope.google || {};\n",
              "scope.google.colab = scope.google.colab || {};\n",
              "scope.google.colab._files = {\n",
              "  _uploadFiles,\n",
              "  _uploadFilesContinue,\n",
              "};\n",
              "})(self);\n",
              "</script> "
            ]
          },
          "metadata": {}
        },
        {
          "output_type": "stream",
          "name": "stdout",
          "text": [
            "Saving canada.txt to canada (2).txt\n"
          ]
        }
      ]
    },
    {
      "cell_type": "code",
      "source": [
        "listed = []\n",
        "with open(\"/content/canada.txt\",\"r\") as text:\n",
        "    Line = text.readline()\n",
        "    while Line!='':\n",
        "        Line1 = Line.split(\".\")\n",
        "        for Sentence in Line1:\n",
        "            listed.append(Sentence)\n",
        "        Line = text.readline()"
      ],
      "metadata": {
        "id": "HfYLH9sQHq4c"
      },
      "execution_count": 82,
      "outputs": []
    },
    {
      "cell_type": "code",
      "source": [
        "data = list(listed)"
      ],
      "metadata": {
        "id": "AbSuU0TEWLJT"
      },
      "execution_count": 83,
      "outputs": []
    },
    {
      "cell_type": "code",
      "metadata": {
        "_uuid": "d629ff2d2480ee46fbb7e2d37f6b5fab8052498a",
        "_cell_guid": "79c7e3d0-c299-4dcb-8224-4455121ee9b0",
        "trusted": true,
        "id": "2j_CFGDR6Xzp",
        "colab": {
          "base_uri": "https://localhost:8080/"
        },
        "outputId": "9fbeaa9c-b5ab-4c44-a1f8-006885c33d26"
      },
      "source": [
        "print(\"%-40s %s\" % (\"Query\", \"Best Match\"))\n",
        "print(\"-\" * 90)\n",
        "\n",
        "for query in (\"Dominion\",\"Hudson’s Bay Company\",\"July 1\", \"British North America Act\", \"Railway\", \"1885\",\"government\"):\n",
        "    # Get index of best section that best matches query\n",
        "    uid = embeddings.similarity(query, data)[0][0]\n",
        "\n",
        "    print(\"%-40s %s\" % (query, data[uid]))"
      ],
      "execution_count": 84,
      "outputs": [
        {
          "output_type": "stream",
          "name": "stdout",
          "text": [
            "Query                                    Best Match\n",
            "------------------------------------------------------------------------------------------\n",
            "Dominion                                 The autonomous Dominion of Canada, a confederation of Nova Scotia, New Brunswick, and the future provinces of Ontario and Quebec, is officially recognized by Great Britain with the passage of the British North America Act\n",
            "Hudson’s Bay Company                      Two years later, Canada acquired the vast possessions of the Hudson’s Bay Company, and within a decade the provinces of Manitoba and Prince Edward Island had joined the Canadian federation\n",
            "July 1                                    July 1 will later become known as Canada Day\n",
            "British North America Act                The autonomous Dominion of Canada, a confederation of Nova Scotia, New Brunswick, and the future provinces of Ontario and Quebec, is officially recognized by Great Britain with the passage of the British North America Act\n",
            "Railway                                   In 1885, the Canadian Pacific Railway was completed, making mass settlement across the vast territory of Canada possible\n",
            "1885                                      Later in the year, another conference was held in Quebec, and in 1866 Canadian representatives traveled to London to meet with the British government\n",
            "government                                In the 1860s, a movement for a greater Canadian federation grew out of the need for a common defense, the desire for a national railroad system, and the necessity of finding a solution to the problem of French and British conflict\n"
          ]
        }
      ]
    },
    {
      "cell_type": "markdown",
      "metadata": {
        "id": "DLIjSzbq6Xzx"
      },
      "source": [
        "# Building an Embeddings index\n",
        "\n",
        "Running an index method to build and store the text embeddings. In this case, only the query is converted to an embeddings vector each search. "
      ]
    },
    {
      "cell_type": "code",
      "metadata": {
        "trusted": true,
        "id": "cXfZtdHD6Xzy",
        "colab": {
          "base_uri": "https://localhost:8080/"
        },
        "outputId": "a2035c60-f6f4-41a5-f6f4-6865dd5db3ca"
      },
      "source": [
        "# Create an index for the list of text\n",
        "embeddings.index([(uid, text, None) for uid, text in enumerate(data)])\n",
        "\n",
        "print(\"%-30s %s\" % (\"Query\", \"Best Match\"))\n",
        "print(\"-\" * 10)\n",
        "\n",
        "# Run an embeddings search for each query\n",
        "for query in (\"Hudson’s Bay Company\",\"July 1\", \"British North America Act\", \"Railway\", \"1885\",\"government\"):\n",
        "    # Extract uid of first result\n",
        "    # search result format: (uid, score)\n",
        "    uid = embeddings.search(query, 1)[0][0]\n",
        "\n",
        "    # Print text\n",
        "    print(\"%-30s %s\" % (query, data[uid]))\n"
      ],
      "execution_count": 85,
      "outputs": [
        {
          "output_type": "stream",
          "name": "stdout",
          "text": [
            "Query                          Best Match\n",
            "----------\n",
            "Hudson’s Bay Company            Two years later, Canada acquired the vast possessions of the Hudson’s Bay Company, and within a decade the provinces of Manitoba and Prince Edward Island had joined the Canadian federation\n",
            "July 1                          July 1 will later become known as Canada Day\n",
            "British North America Act      The autonomous Dominion of Canada, a confederation of Nova Scotia, New Brunswick, and the future provinces of Ontario and Quebec, is officially recognized by Great Britain with the passage of the British North America Act\n",
            "Railway                         In 1885, the Canadian Pacific Railway was completed, making mass settlement across the vast territory of Canada possible\n",
            "1885                            Later in the year, another conference was held in Quebec, and in 1866 Canadian representatives traveled to London to meet with the British government\n",
            "government                      In the 1860s, a movement for a greater Canadian federation grew out of the need for a common defense, the desire for a national railroad system, and the necessity of finding a solution to the problem of French and British conflict\n"
          ]
        }
      ]
    },
    {
      "cell_type": "markdown",
      "metadata": {
        "id": "6TCVl6QA6Xz5"
      },
      "source": [
        "# Embeddings load/save\n",
        "\n",
        "Embeddings indexes can be saved to disk and reloaded."
      ]
    },
    {
      "cell_type": "code",
      "metadata": {
        "trusted": true,
        "id": "5gyO90Hc6Xz7",
        "colab": {
          "base_uri": "https://localhost:8080/"
        },
        "outputId": "19a8171c-24b9-4115-e2ff-50c6d7e001b2"
      },
      "source": [
        "embeddings.save(\"index\")\n",
        "\n",
        "embeddings = Embeddings()\n",
        "embeddings.load(\"index\")\n",
        "\n",
        "uid = embeddings.search(\"British North America Act\", 1)[0][0]\n",
        "print(data[uid])"
      ],
      "execution_count": 86,
      "outputs": [
        {
          "output_type": "stream",
          "name": "stdout",
          "text": [
            "The autonomous Dominion of Canada, a confederation of Nova Scotia, New Brunswick, and the future provinces of Ontario and Quebec, is officially recognized by Great Britain with the passage of the British North America Act\n"
          ]
        }
      ]
    },
    {
      "cell_type": "markdown",
      "source": [
        "# Embeddings index with content"
      ],
      "metadata": {
        "id": "0p3WCDniUths"
      }
    },
    {
      "cell_type": "code",
      "source": [
        "# Create embeddings index with content enabled. The default behavior is to only store indexed vectors.\n",
        "embeddings = Embeddings({\"path\": \"sentence-transformers/all-mpnet-base-v2\", \"content\": True, \"objects\": True})\n",
        "\n",
        "# Create an index for the list of text\n",
        "embeddings.index([(uid, text, None) for uid, text in enumerate(data)])\n",
        "\n",
        "print(embeddings.search(\"British\", 1)[0][\"text\"])"
      ],
      "metadata": {
        "colab": {
          "base_uri": "https://localhost:8080/"
        },
        "id": "MOntBQIdVv-J",
        "outputId": "03360d74-d2e1-4a5f-efd8-1247d1557f27"
      },
      "execution_count": 87,
      "outputs": [
        {
          "output_type": "stream",
          "name": "stdout",
          "text": [
            "The autonomous Dominion of Canada, a confederation of Nova Scotia, New Brunswick, and the future provinces of Ontario and Quebec, is officially recognized by Great Britain with the passage of the British North America Act\n"
          ]
        }
      ]
    },
    {
      "cell_type": "markdown",
      "source": [
        "## Query with SQL\n",
        "\n",
        "When content is enabled, the entire dictionary will be stored and can be queried. In addition to similarity queries, txtai accepts SQL queries. This enables combined queries using both a similarity index and content stored in a database backend."
      ],
      "metadata": {
        "id": "BYWUFBUGyKyY"
      }
    },
    {
      "cell_type": "code",
      "source": [
        "# Create an index for the list of text\n",
        "embeddings.index([(uid, {\"text\": text, \"length\": len(text)}, None) for uid, text in enumerate(data)])\n",
        "\n",
        "# Filter by score\n",
        "print(embeddings.search(\"select text, score from txtai where similar('mass settlement') and score >= 0.15\"))\n",
        "\n",
        "# Filter by metadata field 'length'\n",
        "print(embeddings.search(\"select text, length, score from txtai where similar('July 1') and score >= 0.05 and length >= 40\"))\n",
        "\n",
        "# Run aggregate queries\n",
        "print(embeddings.search(\"select count(*), min(length), max(length), sum(length) from txtai\"))"
      ],
      "metadata": {
        "colab": {
          "base_uri": "https://localhost:8080/"
        },
        "id": "aPH-dnV2ZuL1",
        "outputId": "50382217-5083-4b1d-c059-375152ca84ed"
      },
      "execution_count": 88,
      "outputs": [
        {
          "output_type": "stream",
          "name": "stdout",
          "text": [
            "[{'text': ' In 1885, the Canadian Pacific Railway was completed, making mass settlement across the vast territory of Canada possible', 'score': 0.36653953790664673}, {'text': ' In the 1860s, a movement for a greater Canadian federation grew out of the need for a common defense, the desire for a national railroad system, and the necessity of finding a solution to the problem of French and British conflict', 'score': 0.2537963390350342}, {'text': 'During the 19th century, colonial dependence gave way to increasing autonomy for a growing Canada', 'score': 0.22447863221168518}]\n",
            "[{'text': ' July 1 will later become known as Canada Day', 'length': 45, 'score': 0.4806599020957947}, {'text': 'On July 1, 1867, with passage of the British North America Act, the Dominion of Canada was officially established as a self-governing entity within the British Empire', 'length': 166, 'score': 0.23678340017795563}, {'text': ' Later in the year, another conference was held in Quebec, and in 1866 Canadian representatives traveled to London to meet with the British government', 'length': 150, 'score': 0.09581251442432404}]\n",
            "[{'count(*)': 14, 'min(length)': 1, 'max(length)': 231, 'sum(length)': 1485}]\n"
          ]
        }
      ]
    }
  ]
}